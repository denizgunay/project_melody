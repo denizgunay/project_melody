{
 "cells": [
  {
   "cell_type": "markdown",
   "metadata": {},
   "source": [
    "## Import"
   ]
  },
  {
   "cell_type": "code",
   "execution_count": null,
   "metadata": {},
   "outputs": [],
   "source": [
    "import json\n",
    "import numpy as np\n",
    "import tensorflow.keras as keras\n",
    "import music21 as m21"
   ]
  },
  {
   "cell_type": "markdown",
   "metadata": {},
   "source": [
    "## MelodyGenerator Class"
   ]
  },
  {
   "cell_type": "code",
   "execution_count": null,
   "metadata": {},
   "outputs": [],
   "source": [
    "\n",
    "\n",
    "class MelodyGenerator:\n",
    "    def __init__(self, model_path=\"model.h5\"):\n",
    "        self.model_path = model_path\n",
    "        self.model = keras.models.load_model(model_path)\n",
    "\n",
    "        with open(\"/mapping.json\", \"r\") as fp:\n",
    "            self._mappings = json.load(fp)\n",
    "\n",
    "        self._start_symbols = [\"/\"] * 64\n",
    "\n",
    "\n",
    "    def generate_melody(self, start_melody, num_steps, max_sequence_length, temperature):\n",
    "\n",
    "        start_melody = start_melody.split()\n",
    "        melody = start_melody\n",
    "        start_melody = self._start_symbols + start_melody\n",
    "\n",
    "        # map start_melody to int\n",
    "        start_melody = [self._mappings[symbol] for symbol in start_melody]\n",
    "\n",
    "        for _ in range(num_steps):\n",
    "\n",
    "            # limit the start_melody to max_sequence_length\n",
    "            start_melody = start_melody[-max_sequence_length:]\n",
    "\n",
    "            # one-hot encode the start_melody\n",
    "            onehot_start_melody = keras.utils.to_categorical(start_melody, num_classes=len(self._mappings))\n",
    "            onehot_start_melody = onehot_start_melody[np.newaxis, ...]\n",
    "\n",
    "            # make a prediction\n",
    "            probabilities = self.model.predict(onehot_start_melody)[0]\n",
    "            # [0.1, 0.2, 0.1, 0.6] -> 1\n",
    "            output_int = self.resample(probabilities, temperature)\n",
    "\n",
    "            # update start_melody\n",
    "            start_melody.append(output_int)\n",
    "\n",
    "            # map int to our encoding\n",
    "            output_symbol = [k for k, v in self._mappings.items() if v == output_int][0]\n",
    "\n",
    "            # check whether we're at the end of a melody\n",
    "            if output_symbol == \"/\":\n",
    "                break\n",
    "\n",
    "            # update melody\n",
    "            melody.append(output_symbol)\n",
    "\n",
    "        return melody\n",
    "\n",
    "\n",
    "    def resample(self, probabilites, temperature):\n",
    "\n",
    "        predictions = np.log(probabilites) / temperature\n",
    "        probabilites = np.exp(predictions) / np.sum(np.exp(predictions))\n",
    "\n",
    "        choices = range(len(probabilites)) # [0, 1, 2, 3]\n",
    "        index = np.random.choice(choices, p=probabilites)\n",
    "\n",
    "        return index\n",
    "\n",
    "\n",
    "    def save_melody(self, melody, step_duration=0.25, format=\"midi\", file_name=\"mel.mid\"):\n",
    "\n",
    "        # create a music21 stream\n",
    "        stream = m21.stream.Stream()\n",
    "\n",
    "        start_symbol = None\n",
    "        step_counter = 1\n",
    "\n",
    "        \n",
    "        for i, symbol in enumerate(melody): \n",
    "            if symbol != \"_\" or i + 1 == len(melody):\n",
    "                if start_symbol is not None:\n",
    "                    quarter_length_duration = step_duration * step_counter # 0.25 * 4 = 1\n",
    "\n",
    "                    # rest\n",
    "                    if start_symbol == \"r\":\n",
    "                        m21_event = m21.note.Rest(quarterLength=quarter_length_duration)\n",
    "\n",
    "                    # note\n",
    "                    else:\n",
    "                        m21_event = m21.note.Note(int(start_symbol), quarterLength=quarter_length_duration)\n",
    "\n",
    "                    stream.append(m21_event)\n",
    "                    step_counter = 1\n",
    "\n",
    "                start_symbol = symbol\n",
    "\n",
    "            # \"_\"\n",
    "            else:\n",
    "                step_counter += 1\n",
    "\n",
    "        # stream to a midi file\n",
    "        stream.write(format, file_name)"
   ]
  },
  {
   "cell_type": "markdown",
   "metadata": {},
   "source": [
    "## Example"
   ]
  },
  {
   "cell_type": "code",
   "execution_count": null,
   "metadata": {},
   "outputs": [],
   "source": [
    "\n",
    "mg = MelodyGenerator()\n",
    "start_melody = \"67 _ 67 _ 67 _ _ 65 64 _ 64 _ 64 _ _\"\n",
    "start_melody2 = \"67 _ _ _ _ _ 65 _ 64 _ 62 _ 60 _ _ _\"\n",
    "melody = mg.generate_melody(start_melody, 500, 64, 0.3)\n",
    "print(melody)"
   ]
  }
 ],
 "metadata": {
  "kernelspec": {
   "display_name": "base",
   "language": "python",
   "name": "python3"
  },
  "language_info": {
   "codemirror_mode": {
    "name": "ipython",
    "version": 3
   },
   "file_extension": ".py",
   "mimetype": "text/x-python",
   "name": "python",
   "nbconvert_exporter": "python",
   "pygments_lexer": "ipython3",
   "version": "3.11.7"
  }
 },
 "nbformat": 4,
 "nbformat_minor": 2
}
